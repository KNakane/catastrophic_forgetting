{
 "cells": [
  {
   "cell_type": "code",
   "execution_count": 1,
   "metadata": {},
   "outputs": [],
   "source": [
    "import re, time\n",
    "import numpy as np\n",
    "import pandas as pd\n",
    "import tensorflow as tf\n",
    "from tensorflow.python.client import device_lib\n",
    "import matplotlib.pyplot as plt\n",
    "from src.data import Dataset\n",
    "from collections import OrderedDict\n",
    "from sklearn.metrics import confusion_matrix, classification_report\n",
    "\n",
    "from src.model import DNN"
   ]
  },
  {
   "cell_type": "code",
   "execution_count": 2,
   "metadata": {},
   "outputs": [],
   "source": [
    "def find_gpu():\n",
    "    device_list = device_lib.list_local_devices()\n",
    "    for device in device_list:\n",
    "        if re.match('/device:GPU', device.name):\n",
    "            return 0\n",
    "    return -1"
   ]
  },
  {
   "cell_type": "code",
   "execution_count": 3,
   "metadata": {},
   "outputs": [],
   "source": [
    "gpu = find_gpu()\n",
    "gpu = \"/gpu:{}\".format(gpu) if gpu >= 0 else \"/cpu:0\""
   ]
  },
  {
   "cell_type": "code",
   "execution_count": 4,
   "metadata": {},
   "outputs": [],
   "source": [
    "# dataset\n",
    "dataset = Dataset(name='mnist')"
   ]
  },
  {
   "cell_type": "code",
   "execution_count": 5,
   "metadata": {},
   "outputs": [],
   "source": [
    "model = DNN(name='DNN',\n",
    "            input_shape=dataset.input_shape,\n",
    "            out_dim=dataset.output_dim,\n",
    "            opt=\"Adam\",\n",
    "            lr=0.001,\n",
    "            l2_reg=False,\n",
    "            l2_reg_scale=0.0005)"
   ]
  },
  {
   "cell_type": "code",
   "execution_count": 6,
   "metadata": {},
   "outputs": [],
   "source": [
    "class Trainer():\n",
    "    def __init__(self,\n",
    "                 data,\n",
    "                 model,\n",
    "                 name,\n",
    "                 n_epoch=100,\n",
    "                 batch_size=32,\n",
    "                 gpu=False,\n",
    "                 ):\n",
    "        self.data = data\n",
    "        self.model = model\n",
    "        self.name = name\n",
    "        self.n_epoch = n_epoch\n",
    "        self.batch_size = batch_size\n",
    "        self.device = gpu\n",
    "        self.train_loss = tf.keras.metrics.Mean(name='train_loss')\n",
    "        self.test_loss = tf.keras.metrics.Mean(name='test_loss')\n",
    "        self.acc_func = tf.keras.metrics.CategoricalAccuracy()\n",
    "\n",
    "    def load(self, perm=False):\n",
    "        train, valid, test = self.data.get()\n",
    "        (x_train, y_train), (x_valid, y_valid), (x_test, y_test) = train, valid, test\n",
    "        train_dataset = self.data.load(x_train, y_train, batch_size=self.batch_size, is_training=True)\n",
    "        valid_dataset = self.data.load(x_valid, y_valid, batch_size=1000, is_training=False)\n",
    "        test_dataset = self.data.load(x_test, y_test, batch_size=1000, is_training=False)\n",
    "        return train_dataset, valid_dataset, test_dataset\n",
    "\n",
    "    @tf.function\n",
    "    def _train_body(self, images, labels, continual=0):\n",
    "        with tf.device(self.device):\n",
    "            with tf.GradientTape(persistent=True) as tape:\n",
    "                with tf.name_scope('train_logits'):\n",
    "                    y_pre = self.model(images, trainable=True)\n",
    "                with tf.name_scope('train_loss'):\n",
    "                    loss = self.model.loss(y_pre, labels, tape, self.method if continual > 0 else None)\n",
    "                self.train_loss(loss)\n",
    "            self.model.optimize(loss, tape)#, other_variables=tokens[-1])\n",
    "            with tf.name_scope('train_accuracy'):\n",
    "                self.acc_func(y_true=labels, y_pred=y_pre)\n",
    "        return\n",
    "\n",
    "    def train(self):\n",
    "        # load dataset\n",
    "        train_dataset, valid_dataset, test_dataset = self.load()\n",
    "        self.data.create_mncode()\n",
    "        total_epoch = 1\n",
    "        for epoch in range(self.n_epoch):\n",
    "            start_time = time.time()\n",
    "            for (train_images, train_labels) in train_dataset:\n",
    "                train_images = self.data.add_mncode(train_images, train_labels)\n",
    "                self._train_body(train_images,\n",
    "                                 train_labels\n",
    "                                 )\n",
    "            time_per_episode = time.time() - start_time\n",
    "\n",
    "            # trainiing metricsを記録\n",
    "            train_loss = self.train_loss.result().numpy()\n",
    "            train_accuracy = self.acc_func.result().numpy()\n",
    "            # 訓練履歴のリセット\n",
    "            self.train_loss.reset_states()\n",
    "            self.acc_func.reset_states()\n",
    "\n",
    "            test_losses, test_accuracy, average_accuracy = [], [], []\n",
    "            for (test_images, test_labels) in test_dataset:\n",
    "                self._test_body(test_images, test_labels)\n",
    "\n",
    "            # test lossを記録\n",
    "            test_losses.append(self.test_loss.result().numpy())\n",
    "            test_accuracy.append(self.acc_func.result().numpy())\n",
    "\n",
    "            # 訓練履歴のリセット\n",
    "            self.test_loss.reset_states()\n",
    "            self.acc_func.reset_states()\n",
    "\n",
    "            # Training results\n",
    "            metrics = OrderedDict({\n",
    "                \"epoch\": total_epoch,\n",
    "                \"train_loss\": train_loss,\n",
    "                \"train_accuracy\":train_accuracy,\n",
    "                \"test_loss\": test_losses,\n",
    "                \"test_accuracy\" : test_accuracy,\n",
    "                \"time/epoch\": time_per_episode\n",
    "            })\n",
    "\n",
    "            total_epoch += 1\n",
    "            self.epoch_end(metrics, None)\n",
    "\n",
    "        true_classes, predict_classes = [], []\n",
    "        for (test_images, test_labels) in test_dataset:\n",
    "            true_class, predict_class = self._test_body(test_images, test_labels)\n",
    "            true_classes.append(true_class)\n",
    "            predict_classes.append(predict_class)\n",
    "    \n",
    "        true_classes = np.hstack(true_classes)\n",
    "        predict_classes = np.hstack(predict_classes)\n",
    "        self.aggregate_result(pred=predict_classes, truth=true_classes, graph=True)\n",
    "        \n",
    "\n",
    "    def forget(self, class_num, dataset=None, alpha=None):\n",
    "        # load dataset\n",
    "        if dataset is None:\n",
    "            _, dataset, _ = self.load()\n",
    "\n",
    "        # get forgetting data and retain data\n",
    "        retain_data = self.data.mncode.copy()\n",
    "        forget_data = retain_data.pop(class_num)\n",
    "\n",
    "        classidx = np.arange(self.data.output_dim)\n",
    "        forget_class = tf.one_hot(classidx[class_num], self.data.output_dim)\n",
    "        retain_class = tf.one_hot(np.delete(classidx, class_num, 0), self.data.output_dim)\n",
    "\n",
    "        # \n",
    "        posi_weight_list, nega_weight_list = self.model.mn_forget(forget_data=forget_data,\n",
    "                                                                forget_class=forget_class,\n",
    "                                                                retain_data=retain_data,\n",
    "                                                                retain_class=retain_class,\n",
    "                                                                alpha=alpha if alpha is not None else 1.\n",
    "                                                                )\n",
    "\n",
    "        # 推論\n",
    "        for param, target_param in zip(posi_weight_list, self.model.weights):\n",
    "            target_param.assign(param)\n",
    "\n",
    "        true_classes, predict_classes = [], []\n",
    "        for (images, labels) in dataset:\n",
    "            true_class, predict_class = self._test_body(images, labels)\n",
    "            true_classes.append(true_class)\n",
    "            predict_classes.append(predict_class)\n",
    "        \n",
    "        true_classes = np.hstack(true_classes)\n",
    "        predict_classes = np.hstack(predict_classes)\n",
    "        self.aggregate_result(pred=predict_classes, truth=true_classes, graph=True)\n",
    "        \n",
    "        \n",
    "\n",
    "        for param, target_param in zip(nega_weight_list, self.model.weights):\n",
    "            target_param.assign(param)\n",
    "\n",
    "        true_classes, predict_classes = [], []\n",
    "        for (images, labels) in dataset:\n",
    "            true_class, predict_class = self._test_body(images, labels)\n",
    "            true_classes.append(true_class)\n",
    "            predict_classes.append(predict_class)\n",
    "\n",
    "        true_classes = np.hstack(true_classes)\n",
    "        predict_classes = np.hstack(predict_classes)\n",
    "\n",
    "        self.aggregate_result(pred=predict_classes, truth=true_classes, graph=True)\n",
    "\n",
    "        return posi_weight_list, nega_weight_list\n",
    "\n",
    "    @tf.function\n",
    "    def _test_body(self, images, labels):\n",
    "        with tf.device(self.device):\n",
    "            with tf.name_scope('test_logits'):\n",
    "                y_pre = self.model(images, trainable=False)\n",
    "            with tf.name_scope('test_loss'):\n",
    "                loss = self.model.loss(y_pre, labels)\n",
    "                self.test_loss(loss)\n",
    "            with tf.name_scope('test_accuracy'):\n",
    "                self.acc_func(y_true=labels, y_pred=y_pre)\n",
    "\n",
    "        true_classes = tf.argmax(labels, 1)\n",
    "        predict_classes = tf.argmax(y_pre, 1)\n",
    "        return true_classes, predict_classes\n",
    "\n",
    "\n",
    "    def epoch_end(self, metrics, other=None):\n",
    "        print_format = \"epoch: %d  train_loss: %.4f  train_acc: %.3f  \"%(metrics['epoch'], metrics['train_loss'], metrics['train_accuracy'])\n",
    "        learning_rate = self.model.optimizer.lr(metrics['epoch']).numpy() if type(self.model.optimizer.lr) is tf.optimizers.schedules.ExponentialDecay else self.model.optimizer.lr\n",
    "        \n",
    "        for i, (loss, acc) in enumerate(zip(metrics['test_loss'], metrics['test_accuracy'])):\n",
    "            print_format += \"test_loss{0:1d}: {1:.4f}  test_acc{0:1d}: {2:.3f}  \".format(i, loss, acc)\n",
    "\n",
    "        print_format += \"time/epoch: %0.3fs\"%metrics['time/epoch']\n",
    "        print(print_format)\n",
    "        return\n",
    "\n",
    "    def aggregate_result(self, pred, truth, graph=False):\n",
    "        target_names = ['num:{}'.format(i) for i in range(self.data.output_dim)]\n",
    "        rep = classification_report(truth, pred, target_names=target_names, output_dict=True)\n",
    "        df = pd.DataFrame(rep).T\n",
    "        print(df)\n",
    "        if graph:\n",
    "            plt.figure(figsize=(10, 8))\n",
    "            left = np.array(target_names)\n",
    "            height = np.array(df[\"precision\"])[:len(target_names)] * 100\n",
    "            plt.bar(left, height)\n",
    "            plt.ylim([0, 100])\n",
    "            plt.show()\n",
    "        return"
   ]
  },
  {
   "cell_type": "code",
   "execution_count": 11,
   "metadata": {},
   "outputs": [
    {
     "name": "stdout",
     "output_type": "stream",
     "text": [
      "epoch: 1  train_loss: 0.1305  train_acc: 0.965  test_loss0: 0.1424  test_acc0: 0.956  time/epoch: 13.677s\n",
      "epoch: 2  train_loss: 0.0867  train_acc: 0.973  test_loss0: 0.1172  test_acc0: 0.962  time/epoch: 13.296s\n",
      "epoch: 3  train_loss: 0.0695  train_acc: 0.979  test_loss0: 0.1087  test_acc0: 0.966  time/epoch: 13.325s\n",
      "epoch: 4  train_loss: 0.0607  train_acc: 0.982  test_loss0: 0.1209  test_acc0: 0.963  time/epoch: 13.261s\n",
      "epoch: 5  train_loss: 0.0544  train_acc: 0.983  test_loss0: 0.1051  test_acc0: 0.967  time/epoch: 13.296s\n",
      "              precision    recall  f1-score     support\n",
      "num:0          0.965278  0.992857  0.978873    980.0000\n",
      "num:1          0.980786  0.989427  0.985088   1135.0000\n",
      "num:2          0.978894  0.943798  0.961026   1032.0000\n",
      "num:3          0.965347  0.965347  0.965347   1010.0000\n",
      "num:4          0.967314  0.964358  0.965834    982.0000\n",
      "num:5          0.976163  0.964126  0.970107    892.0000\n",
      "num:6          0.961934  0.975992  0.968912    958.0000\n",
      "num:7          0.977978  0.950389  0.963986   1028.0000\n",
      "num:8          0.958932  0.958932  0.958932    974.0000\n",
      "num:9          0.942141  0.968285  0.955034   1009.0000\n",
      "accuracy       0.967500  0.967500  0.967500      0.9675\n",
      "macro avg      0.967477  0.967351  0.967314  10000.0000\n",
      "weighted avg   0.967654  0.967500  0.967476  10000.0000\n"
     ]
    },
    {
     "data": {
      "image/png": "[encoded data removed]",
      "text/plain": [
       "<Figure size 720x576 with 1 Axes>"
      ]
     },
     "metadata": {
      "needs_background": "light"
     },
     "output_type": "display_data"
    }
   ],
   "source": [
    "trainer = Trainer(data=dataset, n_epoch=5, batch_size=32, gpu=gpu, model=model, name='DNN')\n",
    "trainer.train()"
   ]
  },
  {
   "cell_type": "code",
   "execution_count": 13,
   "metadata": {},
   "outputs": [
    {
     "name": "stdout",
     "output_type": "stream",
     "text": [
      "              precision    recall  f1-score       support\n",
      "num:0          1.000000  0.012116  0.023941   1073.000000\n",
      "num:1          0.000000  0.000000  0.000000   1164.000000\n",
      "num:2          0.953488  0.036283  0.069906   1130.000000\n",
      "num:3          0.000000  0.000000  0.000000   1036.000000\n",
      "num:4          1.000000  0.003119  0.006218    962.000000\n",
      "num:5          0.000000  0.000000  0.000000    922.000000\n",
      "num:6          1.000000  0.025666  0.050048   1013.000000\n",
      "num:7          0.909091  0.009066  0.017953   1103.000000\n",
      "num:8          0.099962  1.000000  0.181755   1040.000000\n",
      "num:9          0.000000  0.000000  0.000000   1057.000000\n",
      "accuracy       0.107905  0.107905  0.107905      0.107905\n",
      "macro avg      0.496254  0.108625  0.034982  10500.000000\n",
      "weighted avg   0.498298  0.107905  0.035256  10500.000000\n"
     ]
    },
    {
     "name": "stderr",
     "output_type": "stream",
     "text": [
      "/Users/nakane/opt/anaconda3/envs/tf2.0/lib/python3.7/site-packages/sklearn/metrics/_classification.py:1221: UndefinedMetricWarning: Precision and F-score are ill-defined and being set to 0.0 in labels with no predicted samples. Use `zero_division` parameter to control this behavior.\n",
      "  _warn_prf(average, modifier, msg_start, len(result))\n"
     ]
    },
    {
     "data": {
      "image/png": "[encoded data removed]",
      "text/plain": [
       "<Figure size 720x576 with 1 Axes>"
      ]
     },
     "metadata": {
      "needs_background": "light"
     },
     "output_type": "display_data"
    },
    {
     "name": "stdout",
     "output_type": "stream",
     "text": [
      "              precision    recall  f1-score      support\n",
      "num:0          0.774381  0.991612  0.869636   1073.00000\n",
      "num:1          0.890769  0.994845  0.939935   1164.00000\n",
      "num:2          0.716359  0.961062  0.820862   1130.00000\n",
      "num:3          0.813644  0.944015  0.873995   1036.00000\n",
      "num:4          0.927593  0.985447  0.955645    962.00000\n",
      "num:5          0.988811  0.766811  0.863775    922.00000\n",
      "num:6          0.838198  0.992103  0.908680   1013.00000\n",
      "num:7          0.893652  0.982774  0.936097   1103.00000\n",
      "num:8          0.000000  0.000000  0.000000   1040.00000\n",
      "num:9          0.974974  0.884579  0.927579   1057.00000\n",
      "accuracy       0.853810  0.853810  0.853810      0.85381\n",
      "macro avg      0.781838  0.850325  0.809620  10500.00000\n",
      "weighted avg   0.779958  0.853810  0.810422  10500.00000\n"
     ]
    },
    {
     "name": "stderr",
     "output_type": "stream",
     "text": [
      "/Users/nakane/opt/anaconda3/envs/tf2.0/lib/python3.7/site-packages/sklearn/metrics/_classification.py:1221: UndefinedMetricWarning: Precision and F-score are ill-defined and being set to 0.0 in labels with no predicted samples. Use `zero_division` parameter to control this behavior.\n",
      "  _warn_prf(average, modifier, msg_start, len(result))\n"
     ]
    },
    {
     "data": {
      "image/png": "[encoded data removed]",
      "text/plain": [
       "<Figure size 720x576 with 1 Axes>"
      ]
     },
     "metadata": {
      "needs_background": "light"
     },
     "output_type": "display_data"
    }
   ],
   "source": [
    "posi_weight_list, nega_weight_list = trainer.forget(class_num=8)"
   ]
  },
  {
   "cell_type": "code",
   "execution_count": 8,
   "metadata": {},
   "outputs": [
    {
     "name": "stdout",
     "output_type": "stream",
     "text": [
      "              precision    recall  f1-score       support\n",
      "num:0          0.000000  0.000000  0.000000   1001.000000\n",
      "num:1          0.976231  0.945724  0.960735   1216.000000\n",
      "num:2          0.992634  0.488667  0.654921   1103.000000\n",
      "num:3          1.000000  0.046238  0.088388   1103.000000\n",
      "num:4          0.992013  0.586957  0.737530   1058.000000\n",
      "num:5          0.126670  1.000000  0.224858    910.000000\n",
      "num:6          0.991176  0.326234  0.490896   1033.000000\n",
      "num:7          0.948276  0.104563  0.188356   1052.000000\n",
      "num:8          0.968127  0.243000  0.388489   1000.000000\n",
      "num:9          0.886256  0.182617  0.302834   1024.000000\n",
      "accuracy       0.395048  0.395048  0.395048      0.395048\n",
      "macro avg      0.788138  0.392400  0.403701  10500.000000\n",
      "weighted avg   0.804468  0.395048  0.416847  10500.000000\n"
     ]
    },
    {
     "name": "stderr",
     "output_type": "stream",
     "text": [
      "/Users/nakane/opt/anaconda3/envs/tf2.0/lib/python3.7/site-packages/sklearn/metrics/_classification.py:1221: UndefinedMetricWarning: Precision and F-score are ill-defined and being set to 0.0 in labels with no predicted samples. Use `zero_division` parameter to control this behavior.\n",
      "  _warn_prf(average, modifier, msg_start, len(result))\n"
     ]
    },
    {
     "data": {
      "image/png": "[encoded data removed]",
      "text/plain": [
       "<Figure size 720x576 with 1 Axes>"
      ]
     },
     "metadata": {
      "needs_background": "light"
     },
     "output_type": "display_data"
    },
    {
     "name": "stdout",
     "output_type": "stream",
     "text": [
      "              precision    recall  f1-score       support\n",
      "num:0          0.951597  0.982018  0.966568   1001.000000\n",
      "num:1          0.976993  0.977796  0.977394   1216.000000\n",
      "num:2          0.961646  0.932004  0.946593   1103.000000\n",
      "num:3          0.826018  0.938350  0.878608   1103.000000\n",
      "num:4          0.966926  0.939509  0.953020   1058.000000\n",
      "num:5          0.000000  0.000000  0.000000    910.000000\n",
      "num:6          0.929358  0.980639  0.954310   1033.000000\n",
      "num:7          0.983135  0.942015  0.962136   1052.000000\n",
      "num:8          0.554989  0.979000  0.708394   1000.000000\n",
      "num:9          0.921002  0.933594  0.927255   1024.000000\n",
      "accuracy       0.873143  0.873143  0.873143      0.873143\n",
      "macro avg      0.807166  0.860492  0.827428  10500.000000\n",
      "weighted avg   0.821691  0.873143  0.841277  10500.000000\n"
     ]
    },
    {
     "name": "stderr",
     "output_type": "stream",
     "text": [
      "/Users/nakane/opt/anaconda3/envs/tf2.0/lib/python3.7/site-packages/sklearn/metrics/_classification.py:1221: UndefinedMetricWarning: Precision and F-score are ill-defined and being set to 0.0 in labels with no predicted samples. Use `zero_division` parameter to control this behavior.\n",
      "  _warn_prf(average, modifier, msg_start, len(result))\n"
     ]
    },
    {
     "data": {
      "image/png": "[encoded data removed]",
      "text/plain": [
       "<Figure size 720x576 with 1 Axes>"
      ]
     },
     "metadata": {
      "needs_background": "light"
     },
     "output_type": "display_data"
    }
   ],
   "source": [
    "posi_weight_list, nega_weight_list = trainer.forget(class_num=0, alpha=1.12)"
   ]
  },
  {
   "cell_type": "code",
   "execution_count": 9,
   "metadata": {},
   "outputs": [],
   "source": [
    "#for param, target_param in zip(nega_weight_list, trainer.model.weights):\n",
    "#    target_param.assign(param)\n",
    "\n",
    "#posi_weight_list, nega_weight_list = trainer.forget(class_num=1)"
   ]
  },
  {
   "cell_type": "code",
   "execution_count": null,
   "metadata": {},
   "outputs": [],
   "source": []
  }
 ],
 "metadata": {
  "kernelspec": {
   "display_name": "tf2.0",
   "language": "python",
   "name": "python3"
  },
  "language_info": {
   "codemirror_mode": {
    "name": "ipython",
    "version": 3
   },
   "file_extension": ".py",
   "mimetype": "text/x-python",
   "name": "python",
   "nbconvert_exporter": "python",
   "pygments_lexer": "ipython3",
   "version": "3.7.5"
  }
 },
 "nbformat": 4,
 "nbformat_minor": 2
}
